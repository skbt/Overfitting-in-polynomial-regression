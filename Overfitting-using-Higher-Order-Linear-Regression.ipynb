{
 "cells": [
  {
   "cell_type": "markdown",
   "id": "40c46bf3",
   "metadata": {},
   "source": [
    "Import the libraries required"
   ]
  },
  {
   "cell_type": "code",
   "execution_count": null,
   "id": "97b40903",
   "metadata": {},
   "outputs": [],
   "source": [
    "import numpy as np\n",
    "import torch\n",
    "from torch.autograd import Variable\n",
    "import matplotlib.pyplot as plt"
   ]
  },
  {
   "cell_type": "markdown",
   "id": "46225c7c",
   "metadata": {},
   "source": [
    "###### a. Generate 20 data pairs (X, Y) using y = sin(2*pi*X) + 0.1 * N\n",
    "\n",
    "* Using uniform distribution between 0 and 1 for X\n",
    "* Sampling N from the normal gaussian distribution\n",
    "* Using 10 for train and 10 for test "
   ]
  },
  {
   "cell_type": "code",
   "execution_count": null,
   "id": "f5133ce0",
   "metadata": {},
   "outputs": [],
   "source": [
    "np.random.seed(0)\n",
    "\n",
    "x = np.random.uniform(0.0, 1.0, 20)\n",
    "N = np.random.normal(0.0, 1.0, 20)\n",
    "y = np.sin(2*np.pi*x) + (0.1 * N)\n",
    "\n",
    "x_train = x[:10]\n",
    "x_test = x[10:]\n",
    "\n",
    "y_train = y[:10]\n",
    "y_test = y[10:]\n"
   ]
  }
 ],
 "metadata": {
  "kernelspec": {
   "display_name": "Python 3",
   "language": "python",
   "name": "python3"
  },
  "language_info": {
   "codemirror_mode": {
    "name": "ipython",
    "version": 3
   },
   "file_extension": ".py",
   "mimetype": "text/x-python",
   "name": "python",
   "nbconvert_exporter": "python",
   "pygments_lexer": "ipython3",
   "version": "3.8.8"
  }
 },
 "nbformat": 4,
 "nbformat_minor": 5
}
