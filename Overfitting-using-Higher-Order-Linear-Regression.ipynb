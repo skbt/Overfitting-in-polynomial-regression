{
 "cells": [
  {
   "cell_type": "markdown",
   "id": "2862df8e",
   "metadata": {},
   "source": [
    "Import the libraries required"
   ]
  },
  {
   "cell_type": "code",
   "execution_count": null,
   "id": "2f9254b0",
   "metadata": {},
   "outputs": [],
   "source": [
    "import numpy as np\n",
    "import torch\n",
    "from torch.autograd import Variable\n",
    "import matplotlib.pyplot as plt"
   ]
  },
  {
   "cell_type": "markdown",
   "id": "8c22ec7e",
   "metadata": {},
   "source": [
    "###### a. Generate 20 data pairs (X, Y) using y = sin(2*pi*X) + 0.1 * N\n",
    "\n",
    "* Using uniform distribution between 0 and 1 for X\n",
    "* Sampling N from the normal gaussian distribution\n",
    "* Using 10 for train and 10 for test "
   ]
  },
  {
   "cell_type": "code",
   "execution_count": null,
   "id": "f8a74fb5",
   "metadata": {},
   "outputs": [],
   "source": [
    "np.random.seed(0)\n",
    "\n",
    "x = np.random.uniform(0.0, 1.0, 20)\n",
    "N = np.random.normal(0.0, 1.0, 20)\n",
    "y = np.sin(2*np.pi*x) + (0.1 * N)\n",
    "\n",
    "x_train = x[:10]\n",
    "x_test = x[10:]\n",
    "\n",
    "y_train = y[:10]\n",
    "y_test = y[10:]\n"
   ]
  },
  {
   "cell_type": "markdown",
   "id": "36db44f2",
   "metadata": {},
   "source": [
    "###### b. Using root mean square error, find weights of polynomial regression for order is 0, 1, 3, 9"
   ]
  },
  {
   "cell_type": "code",
   "execution_count": null,
   "id": "f498d0e0",
   "metadata": {},
   "outputs": [],
   "source": [
    "class Model(object):\n",
    "\n",
    "    def __init__(self, pdegree):\n",
    "        self.pdegree = pdegree\n",
    "        self.w = []\n",
    "        self.w0 = torch.ones(1, requires_grad = True)\n",
    "        self.w.append(self.w0)\n",
    "        if self.pdegree > 0:\n",
    "            for i in range(self.pdegree):\n",
    "                self.w.append(torch.ones(1, requires_grad = True))\n",
    "\n",
    "    def forward(self, x):\n",
    "        num = self.w0\n",
    "        if self.pdegree > 0:\n",
    "            for i in range(1, len(self.w)):\n",
    "                num += self.w[i]*x**i\n",
    "\n",
    "    def loss(self, x_train, y_train):\n",
    "        y_pred = forward(x_train)\n",
    "        return (y_pred - y_train) * (y_pred - y_train)\n",
    "\n",
    "    def train(self, epoch = 10):\n",
    "        for i in range(epoch):\n",
    "            lossvalue = 0\n",
    "            for j in range(len(x_train)):\n",
    "                l = self.loss(x_train[j], y_train[j])\n",
    "                lossvalue += l\n",
    "            lossvalue.backward()\n",
    "            print('Iteration:', i, 'Loss:', lossvalue.data.item())\n",
    "            self.w0.data = self.w0.data - 0.01*self.w0.grad.data\n",
    "            if self.pdegree > 0:\n",
    "                for k in range(1, len(self.w)):\n",
    "                    self.w[k].data = self.w[k].data - 0.01*self.w[k].grad.data\n",
    "\n",
    "    \n",
    "        print('w0 :', self.w0.item())\n",
    "        if self.pdegree > 0:\n",
    "            for k in range(1, len(self.w)):\n",
    "                print('w' + str(k) + ' :', self.w[k].item())\n",
    "\n",
    "        M = [self.w0.item()]\n",
    "        if self.pdegree > 0:\n",
    "            for i in range(1, len(self.w)):\n",
    "                M.append(self.w[i].item())\n",
    " \n",
    "        return M\n",
    "\n",
    "degree = [0, 1, 3, 9]\n",
    "model = []\n",
    "for d in degree:\n",
    "      m = Model(d)\n",
    "      model.append(m.train())"
   ]
  }
 ],
 "metadata": {
  "kernelspec": {
   "display_name": "Python 3",
   "language": "python",
   "name": "python3"
  },
  "language_info": {
   "codemirror_mode": {
    "name": "ipython",
    "version": 3
   },
   "file_extension": ".py",
   "mimetype": "text/x-python",
   "name": "python",
   "nbconvert_exporter": "python",
   "pygments_lexer": "ipython3",
   "version": "3.8.8"
  }
 },
 "nbformat": 4,
 "nbformat_minor": 5
}
